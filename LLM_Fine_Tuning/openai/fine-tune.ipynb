{
 "cells": [
  {
   "cell_type": "code",
   "execution_count": 2,
   "metadata": {},
   "outputs": [],
   "source": [
    "from openai import OpenAI"
   ]
  },
  {
   "cell_type": "code",
   "execution_count": 3,
   "metadata": {},
   "outputs": [],
   "source": [
    "client = OpenAI()"
   ]
  },
  {
   "cell_type": "code",
   "execution_count": 5,
   "metadata": {},
   "outputs": [
    {
     "data": {
      "text/plain": [
       "FileObject(id='file-aDNmk2N5cCCiDvpTuIe0el3g', bytes=376849, created_at=1723104373, filename='test.jsonl', object='file', purpose='fine-tune', status='processed', status_details=None)"
      ]
     },
     "execution_count": 5,
     "metadata": {},
     "output_type": "execute_result"
    }
   ],
   "source": [
    "client.files.create(file=open(\"test.jsonl\",\"rb\"),\n",
    "                    purpose=\"fine-tune\")"
   ]
  },
  {
   "cell_type": "code",
   "execution_count": 6,
   "metadata": {},
   "outputs": [
    {
     "data": {
      "text/plain": [
       "SyncPage[FileObject](data=[FileObject(id='file-aDNmk2N5cCCiDvpTuIe0el3g', bytes=376849, created_at=1723104373, filename='test.jsonl', object='file', purpose='fine-tune', status='processed', status_details=None), FileObject(id='file-lIyi8uMGNxXxxIGWxUD2S02B', bytes=376849, created_at=1723104260, filename='train.jsonl', object='file', purpose='fine-tune', status='processed', status_details=None), FileObject(id='file-1hzx2trTPImx5xTUTZkytht2', bytes=3052, created_at=1722952406, filename='step_metrics.csv', object='file', purpose='fine-tune-results', status='processed', status_details=None), FileObject(id='file-vIr2Mfuf6Iu2S1nm8GR43fSh', bytes=376849, created_at=1722951869, filename='z_test.jsonl', object='file', purpose='fine-tune', status='processed', status_details=None), FileObject(id='file-m9qi1wYwfTA8mxXuJ71DvgVe', bytes=376849, created_at=1722944257, filename='z_train.jsonl', object='file', purpose='fine-tune', status='processed', status_details=None), FileObject(id='file-hOtxQ5RdoTG4FQjSkhkPGevb', bytes=376849, created_at=1722944096, filename='z_train.jsonl', object='file', purpose='fine-tune', status='processed', status_details=None), FileObject(id='file-0D2IirKrxfOQKQLK02TifSr0', bytes=1152126, created_at=1722943995, filename='z_test.csv', object='file', purpose='fine-tune', status='processed', status_details=None), FileObject(id='file-oqArgsk5CDBYhVj4TrU71AyX', bytes=3116, created_at=1722768919, filename='step_metrics.csv', object='file', purpose='fine-tune-results', status='processed', status_details=None), FileObject(id='file-4ZEAkbSD5npXOgITgJmxgR8f', bytes=127797, created_at=1722768430, filename='finetuning-validation.jsonl', object='file', purpose='fine-tune', status='processed', status_details=None), FileObject(id='file-cXhPdqCa6RfyY43NJwDPiMGS', bytes=364829, created_at=1722768425, filename='finetuning-training.jsonl', object='file', purpose='fine-tune', status='processed', status_details=None), FileObject(id='file-WtdnnCiD2TNCuepUq5MriTUb', bytes=127797, created_at=1722707987, filename='finetuning-validation.jsonl', object='file', purpose='fine-tune', status='processed', status_details=None), FileObject(id='file-joeBS0pIKU74HXjeNrniKa65', bytes=364829, created_at=1722707985, filename='finetuning-training.jsonl', object='file', purpose='fine-tune', status='processed', status_details=None), FileObject(id='file-fnX20gaYzVV3na4ge37HvxVx', bytes=17020, created_at=1722276121, filename='step_metrics.csv', object='file', purpose='fine-tune-results', status='processed', status_details=None), FileObject(id='file-zhKE26kE1qbrEFxT1LoJKYt8', bytes=1217177, created_at=1722272285, filename='finetuning-validation.jsonl', object='file', purpose='fine-tune', status='processed', status_details=None), FileObject(id='file-KG8n1HhpNQzKlIDZyi3D2rx3', bytes=4164598, created_at=1722272277, filename='finetuning-training.jsonl', object='file', purpose='fine-tune', status='processed', status_details=None), FileObject(id='file-7lfwOIaNFum525rzX29u77jk', bytes=6004, created_at=1721846064, filename='step_metrics.csv', object='file', purpose='fine-tune-results', status='processed', status_details=None), FileObject(id='file-xKq43Te4M5JgdSua8r6nvAXp', bytes=243513, created_at=1721845080, filename='finetuning-training.jsonl', object='file', purpose='fine-tune', status='processed', status_details=None), FileObject(id='file-nWK5a0SLYK6OSVTWjXdZcr7R', bytes=127797, created_at=1721845080, filename='finetuning-validation.jsonl', object='file', purpose='fine-tune', status='processed', status_details=None), FileObject(id='file-qDmSybyWtnIXBd0rttyWSQW1', bytes=6028, created_at=1721841936, filename='step_metrics.csv', object='file', purpose='fine-tune-results', status='processed', status_details=None), FileObject(id='file-ljWb5nHFHktcc1JXe1wydqh6', bytes=127797, created_at=1721836684, filename='finetuning-validation.jsonl', object='file', purpose='fine-tune', status='processed', status_details=None), FileObject(id='file-rdaKfBip56018Vnujh56nRv6', bytes=243513, created_at=1721836682, filename='finetuning-training.jsonl', object='file', purpose='fine-tune', status='processed', status_details=None), FileObject(id='file-xUH4yZbeQQfpgFMx4SJFnaIX', bytes=127797, created_at=1721836631, filename='finetuning-validation.jsonl', object='file', purpose='fine-tune', status='processed', status_details=None), FileObject(id='file-djdwGxGJScvypE8rmDl0BfAs', bytes=243513, created_at=1721836630, filename='finetuning-training.jsonl', object='file', purpose='fine-tune', status='processed', status_details=None), FileObject(id='file-7XvwiMSJzXCyP1YxuPKcrsXW', bytes=127797, created_at=1721803257, filename='finetuning-validation.jsonl', object='file', purpose='fine-tune', status='processed', status_details=None), FileObject(id='file-zqvT9u3BYA7FBiYBa8ryR4sX', bytes=243513, created_at=1721803254, filename='finetuning-training.jsonl', object='file', purpose='fine-tune', status='processed', status_details=None)], object='list', has_more=False)"
      ]
     },
     "execution_count": 6,
     "metadata": {},
     "output_type": "execute_result"
    }
   ],
   "source": [
    "client.files.list()"
   ]
  },
  {
   "cell_type": "code",
   "execution_count": 7,
   "metadata": {},
   "outputs": [
    {
     "data": {
      "text/plain": [
       "FileObject(id='file-aDNmk2N5cCCiDvpTuIe0el3g', bytes=376849, created_at=1723104373, filename='test.jsonl', object='file', purpose='fine-tune', status='processed', status_details=None)"
      ]
     },
     "execution_count": 7,
     "metadata": {},
     "output_type": "execute_result"
    }
   ],
   "source": [
    "client.files.retrieve(\"file-aDNmk2N5cCCiDvpTuIe0el3g\")"
   ]
  },
  {
   "cell_type": "code",
   "execution_count": 8,
   "metadata": {},
   "outputs": [
    {
     "data": {
      "text/plain": [
       "FineTuningJob(id='ftjob-ku7ytdtAEdx5jxthRANQTqr0', created_at=1723105710, error=Error(code=None, message=None, param=None), fine_tuned_model=None, finished_at=None, hyperparameters=Hyperparameters(n_epochs=1, batch_size='auto', learning_rate_multiplier='auto'), model='gpt-3.5-turbo-0125', object='fine_tuning.job', organization_id='org-15gNPgTlQG2a0reTC9WiKoCK', result_files=[], seed=1125392506, status='validating_files', trained_tokens=None, training_file='file-lIyi8uMGNxXxxIGWxUD2S02B', validation_file='file-aDNmk2N5cCCiDvpTuIe0el3g', estimated_finish=None, integrations=[], user_provided_suffix=None)"
      ]
     },
     "execution_count": 8,
     "metadata": {},
     "output_type": "execute_result"
    }
   ],
   "source": [
    "client.fine_tuning.jobs.create(model = \"gpt-3.5-turbo\",\n",
    "                               training_file=\"file-lIyi8uMGNxXxxIGWxUD2S02B\",\n",
    "                               hyperparameters={\n",
    "                                   \"n_epochs\":1\n",
    "                               },\n",
    "                               validation_file=\"file-aDNmk2N5cCCiDvpTuIe0el3g\")"
   ]
  },
  {
   "cell_type": "code",
   "execution_count": 10,
   "metadata": {},
   "outputs": [
    {
     "data": {
      "text/plain": [
       "SyncCursorPage[FineTuningJob](data=[FineTuningJob(id='ftjob-ku7ytdtAEdx5jxthRANQTqr0', created_at=1723105710, error=Error(code=None, message=None, param=None), fine_tuned_model=None, finished_at=None, hyperparameters=Hyperparameters(n_epochs=1, batch_size='auto', learning_rate_multiplier='auto'), model='gpt-3.5-turbo-0125', object='fine_tuning.job', organization_id='org-15gNPgTlQG2a0reTC9WiKoCK', result_files=[], seed=1125392506, status='validating_files', trained_tokens=None, training_file='file-lIyi8uMGNxXxxIGWxUD2S02B', validation_file='file-aDNmk2N5cCCiDvpTuIe0el3g', estimated_finish=None, integrations=[], user_provided_suffix=None), FineTuningJob(id='ftjob-8jLXbOHkUP0CUaEhAYGcM1AK', created_at=1722951912, error=Error(code=None, message=None, param=None), fine_tuned_model='ft:gpt-3.5-turbo-0125:bis::9tEuqvfj', finished_at=1722952403, hyperparameters=Hyperparameters(n_epochs=1, batch_size=1, learning_rate_multiplier=2), model='gpt-3.5-turbo-0125', object='fine_tuning.job', organization_id='org-15gNPgTlQG2a0reTC9WiKoCK', result_files=['file-1hzx2trTPImx5xTUTZkytht2'], seed=1239229755, status='succeeded', trained_tokens=78991, training_file='file-m9qi1wYwfTA8mxXuJ71DvgVe', validation_file='file-vIr2Mfuf6Iu2S1nm8GR43fSh', estimated_finish=None, integrations=[], user_provided_suffix=None), FineTuningJob(id='ftjob-mgBcE7jNTSzhETmo5lCU0yyd', created_at=1722768456, error=Error(code=None, message=None, param=None), fine_tuned_model='ft:gpt-3.5-turbo-0125:bis:150-50-1:9sTBOvyT', finished_at=1722768917, hyperparameters=Hyperparameters(n_epochs=1, batch_size=1, learning_rate_multiplier=1.0), model='gpt-3.5-turbo-0125', object='fine_tuning.job', organization_id='org-15gNPgTlQG2a0reTC9WiKoCK', result_files=['file-oqArgsk5CDBYhVj4TrU71AyX'], seed=1485221291, status='succeeded', trained_tokens=76583, training_file='file-cXhPdqCa6RfyY43NJwDPiMGS', validation_file='file-4ZEAkbSD5npXOgITgJmxgR8f', estimated_finish=None, integrations=[], user_provided_suffix='150-50-1'), FineTuningJob(id='ftjob-QzDJLFO0NqWhH1xbavsX7Mjv', created_at=1722273427, error=Error(code=None, message=None, param=None), fine_tuned_model='ft:gpt-3.5-turbo-0125:bis::9qOz1RGI', finished_at=1722276118, hyperparameters=Hyperparameters(n_epochs=4, batch_size=8, learning_rate_multiplier=1.1), model='gpt-3.5-turbo-0125', object='fine_tuning.job', organization_id='org-15gNPgTlQG2a0reTC9WiKoCK', result_files=['file-fnX20gaYzVV3na4ge37HvxVx'], seed=1259750361, status='succeeded', trained_tokens=3506548, training_file='file-KG8n1HhpNQzKlIDZyi3D2rx3', validation_file='file-zhKE26kE1qbrEFxT1LoJKYt8', estimated_finish=None, integrations=[], user_provided_suffix=None), FineTuningJob(id='ftjob-zVmGtSNAhcLMX1LmOmNKQRnz', created_at=1721845311, error=Error(code=None, message=None, param=None), fine_tuned_model='ft:gpt-3.5-turbo-0125:bis::9ob6dqQb', finished_at=1721846062, hyperparameters=Hyperparameters(n_epochs=3, batch_size=1, learning_rate_multiplier=2), model='gpt-3.5-turbo-0125', object='fine_tuning.job', organization_id='org-15gNPgTlQG2a0reTC9WiKoCK', result_files=['file-7lfwOIaNFum525rzX29u77jk'], seed=364026854, status='succeeded', trained_tokens=154245, training_file='file-xKq43Te4M5JgdSua8r6nvAXp', validation_file='file-nWK5a0SLYK6OSVTWjXdZcr7R', estimated_finish=None, integrations=[], user_provided_suffix=None), FineTuningJob(id='ftjob-CHTD36WzlnDlWDaLIpjQw5Lc', created_at=1721841188, error=Error(code=None, message=None, param=None), fine_tuned_model='ft:gpt-3.5-turbo-0125:bis::9oa23hqL', finished_at=1721841933, hyperparameters=Hyperparameters(n_epochs=3, batch_size=1, learning_rate_multiplier=2), model='gpt-3.5-turbo-0125', object='fine_tuning.job', organization_id='org-15gNPgTlQG2a0reTC9WiKoCK', result_files=['file-qDmSybyWtnIXBd0rttyWSQW1'], seed=558722504, status='succeeded', trained_tokens=154245, training_file='file-zqvT9u3BYA7FBiYBa8ryR4sX', validation_file='file-7XvwiMSJzXCyP1YxuPKcrsXW', estimated_finish=None, integrations=[], user_provided_suffix=None)], object='list', has_more=False)"
      ]
     },
     "execution_count": 10,
     "metadata": {},
     "output_type": "execute_result"
    }
   ],
   "source": [
    "client.fine_tuning.jobs.list(limit=10)"
   ]
  },
  {
   "cell_type": "code",
   "execution_count": 11,
   "metadata": {},
   "outputs": [
    {
     "data": {
      "text/plain": [
       "FineTuningJob(id='ftjob-ku7ytdtAEdx5jxthRANQTqr0', created_at=1723105710, error=Error(code=None, message=None, param=None), fine_tuned_model=None, finished_at=None, hyperparameters=Hyperparameters(n_epochs=1, batch_size=1, learning_rate_multiplier=2), model='gpt-3.5-turbo-0125', object='fine_tuning.job', organization_id='org-15gNPgTlQG2a0reTC9WiKoCK', result_files=[], seed=1125392506, status='validating_files', trained_tokens=None, training_file='file-lIyi8uMGNxXxxIGWxUD2S02B', validation_file='file-aDNmk2N5cCCiDvpTuIe0el3g', estimated_finish=None, integrations=[], user_provided_suffix=None)"
      ]
     },
     "execution_count": 11,
     "metadata": {},
     "output_type": "execute_result"
    }
   ],
   "source": [
    "client.fine_tuning.jobs.retrieve(\"ftjob-ku7ytdtAEdx5jxthRANQTqr0\")"
   ]
  },
  {
   "cell_type": "code",
   "execution_count": 4,
   "metadata": {},
   "outputs": [
    {
     "data": {
      "text/plain": [
       "SyncCursorPage[FineTuningJobEvent](data=[FineTuningJobEvent(id='ftevent-pK4MYP6AwyAXKJlriCckGK7x', created_at=1723106558, level='info', message='The job has successfully completed', object='fine_tuning.job.event', data={}, type='message'), FineTuningJobEvent(id='ftevent-4g0lPg23QLED9rO7ARW7ThlL', created_at=1723106555, level='info', message='New fine-tuned model created: ft:gpt-3.5-turbo-0125:bis::9tt19es9', object='fine_tuning.job.event', data={}, type='message'), FineTuningJobEvent(id='ftevent-AfGo842obC0s7jslAnRwCT9D', created_at=1723106540, level='info', message='Step 150/150: training loss=0.00, validation loss=0.00, full validation loss=0.01', object='fine_tuning.job.event', data={'step': 150, 'train_loss': 1.271565793103946e-06, 'valid_loss': 1.2715657552083333e-06, 'total_steps': 150, 'full_valid_loss': 0.013346887770153228, 'train_mean_token_accuracy': 1.0, 'valid_mean_token_accuracy': 1.0, 'full_valid_mean_token_accuracy': 0.996031746031746}, type='metrics'), FineTuningJobEvent(id='ftevent-ar1XqhLAxJUbu9uWcLEf1Nfr', created_at=1723106525, level='info', message='Step 149/150: training loss=0.00', object='fine_tuning.job.event', data={'step': 149, 'train_loss': 1.271565793103946e-06, 'total_steps': 150, 'train_mean_token_accuracy': 1.0}, type='metrics'), FineTuningJobEvent(id='ftevent-9WLGJ2W8MoL5RCZp7Td9EOan', created_at=1723106521, level='info', message='Step 148/150: training loss=0.00', object='fine_tuning.job.event', data={'step': 148, 'train_loss': 9.5367431640625e-07, 'total_steps': 150, 'train_mean_token_accuracy': 1.0}, type='metrics')], object='list', has_more=True)"
      ]
     },
     "execution_count": 4,
     "metadata": {},
     "output_type": "execute_result"
    }
   ],
   "source": [
    "client.fine_tuning.jobs.list_events(fine_tuning_job_id=\"ftjob-ku7ytdtAEdx5jxthRANQTqr0\",limit=5)"
   ]
  },
  {
   "cell_type": "code",
   "execution_count": 7,
   "metadata": {},
   "outputs": [
    {
     "name": "stdout",
     "output_type": "stream",
     "text": [
      "ChatCompletionMessage(content='tech', role='assistant', function_call=None, tool_calls=None, refusal=None)\n"
     ]
    }
   ],
   "source": [
    "completion = client.chat.completions.create(\n",
    "  model=\"ft:gpt-3.5-turbo-0125:bis::9tt19es9\",\n",
    "  messages=[\n",
    "    {\"role\": \"user\", \"content\": \"Classify the articles into these categories: business, entertainment, politics, sport, tech. A new mobile phone is launched\"}\n",
    "  ]\n",
    ")\n",
    "print(completion.choices[0].message)\n"
   ]
  }
 ],
 "metadata": {
  "kernelspec": {
   "display_name": "llm_env",
   "language": "python",
   "name": "python3"
  },
  "language_info": {
   "codemirror_mode": {
    "name": "ipython",
    "version": 3
   },
   "file_extension": ".py",
   "mimetype": "text/x-python",
   "name": "python",
   "nbconvert_exporter": "python",
   "pygments_lexer": "ipython3",
   "version": "3.11.3"
  }
 },
 "nbformat": 4,
 "nbformat_minor": 2
}
